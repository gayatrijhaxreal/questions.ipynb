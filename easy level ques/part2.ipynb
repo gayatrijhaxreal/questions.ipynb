{
 "cells": [
  {
   "cell_type": "code",
   "execution_count": 1,
   "id": "5b8f15f3",
   "metadata": {},
   "outputs": [],
   "source": [
    "import numpy as np\n",
    "import pandas as pd\n"
   ]
  },
  {
   "cell_type": "markdown",
   "id": "0dfb38ec",
   "metadata": {},
   "source": [
    "**Section 3: Selection & Indexing (21-30)**"
   ]
  },
  {
   "cell_type": "markdown",
   "id": "26b40fda",
   "metadata": {},
   "source": [
    "**21. Select a single column: DataFrame se 'Name' column ko ek Series ke roop mein select\n",
    "karein.**"
   ]
  },
  {
   "cell_type": "code",
   "execution_count": 2,
   "id": "60009522",
   "metadata": {},
   "outputs": [],
   "source": [
    "data = {\n",
    "    'Name': ['Amit', 'Priya', 'Raj', 'Sneha', 'Karan', 'Meera'],\n",
    "    'Age': [23, 25, 21, 22, 24, 26],\n",
    "    'City': ['Delhi', 'Mumbai', 'Kolkata', 'Chennai', 'Pune', 'Jaipur']\n",
    "}"
   ]
  },
  {
   "cell_type": "code",
   "execution_count": null,
   "id": "621308bb",
   "metadata": {},
   "outputs": [],
   "source": []
  }
 ],
 "metadata": {
  "kernelspec": {
   "display_name": "Python 3",
   "language": "python",
   "name": "python3"
  },
  "language_info": {
   "codemirror_mode": {
    "name": "ipython",
    "version": 3
   },
   "file_extension": ".py",
   "mimetype": "text/x-python",
   "name": "python",
   "nbconvert_exporter": "python",
   "pygments_lexer": "ipython3",
   "version": "3.13.7"
  }
 },
 "nbformat": 4,
 "nbformat_minor": 5
}
